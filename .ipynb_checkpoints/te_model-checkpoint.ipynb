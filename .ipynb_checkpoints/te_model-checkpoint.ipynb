{
 "cells": [
  {
   "cell_type": "code",
   "execution_count": 184,
   "metadata": {},
   "outputs": [],
   "source": [
    "import pandas as pd\n",
    "import numpy as np\n",
    "import matplotlib.pyplot as plt\n",
    "from sklearn.model_selection import train_test_split, StratifiedShuffleSplit, cross_val_score, GridSearchCV\n",
    "from sklearn.impute import SimpleImputer\n",
    "from sklearn.pipeline import Pipeline\n",
    "from sklearn.preprocessing import StandardScaler\n",
    "from sklearn.linear_model import LinearRegression\n",
    "from sklearn.metrics import mean_squared_error as mse\n",
    "from sklearn.metrics import r2_score\n",
    "from sklearn.tree import DecisionTreeRegressor\n",
    "from sklearn.ensemble import RandomForestRegressor"
   ]
  },
  {
   "cell_type": "code",
   "execution_count": 185,
   "metadata": {},
   "outputs": [],
   "source": [
    "df = pd.read_csv('data/Copy of Pahowdy\\'s MS Database - TE.csv')"
   ]
  },
  {
   "cell_type": "code",
   "execution_count": 186,
   "metadata": {},
   "outputs": [],
   "source": [
    "new_header = df.iloc[0] \n",
    "df = df[1:] \n",
    "df.columns = new_header"
   ]
  },
  {
   "cell_type": "code",
   "execution_count": 187,
   "metadata": {},
   "outputs": [],
   "source": [
    "df.drop(['School', 'Conference', 'NFL POS', 'Production Score (Pos Specific)', 'Combine Score', 'Production Score (Pos Specific)',\n",
    "         'Pre Draft TE Model', 'POST Draft TE Model', '# of top 5  finishes', '# of top  12 finishes',\n",
    "         '# of top  24 finishes', '# of 1000 Rec yards seasons', 'AVG EP (PPR) Season 1-4',\n",
    "        'SPORK (discount SPAQ-x)', 'Yoa (Diff from AVG MS REC Yards successful WRs since 2008 (RBs=>1top24,Tes>1top12,wrs>1top36)) 23',\n",
    "        'Yoa (Diff from AVG MS REC Yards successful WRs since 2008 (RBs=>1top24,Tes>1top12,wrs>1top36)) 22',\n",
    "        'Y/TmPatt (Rec Yards Per Team Pass Attempt) 23', 'Dominator (Combined REC Yards Touchdown MS) 23',\n",
    "        'MS REC TDs 23', 'MS REC Yards 23', 'MS RECs 23', 'REC TDs 23', 'REC Yards 23',\n",
    "        'RECs 23', 'Games Played 23'], axis=1, inplace=True)"
   ]
  },
  {
   "cell_type": "code",
   "execution_count": 188,
   "metadata": {},
   "outputs": [],
   "source": [
    "df.drop([1], inplace=True)"
   ]
  },
  {
   "cell_type": "code",
   "execution_count": 189,
   "metadata": {},
   "outputs": [],
   "source": [
    "df = df.reset_index(drop=True)\n",
    "df = df.set_index('Name')"
   ]
  },
  {
   "cell_type": "code",
   "execution_count": 190,
   "metadata": {},
   "outputs": [],
   "source": [
    "def clean(df):\n",
    "    for i in df:\n",
    "        if isinstance(i, str):\n",
    "            var = pd.to_numeric(df[f'{i}'], errors='coerce')\n",
    "            df[f'{i}'] = var\n",
    "        else:\n",
    "            var = pd.to_numeric(df[i], errors='coerce')\n",
    "            df[i] = var\n",
    "    return df"
   ]
  },
  {
   "cell_type": "code",
   "execution_count": 191,
   "metadata": {},
   "outputs": [],
   "source": [
    "df = clean(df)"
   ]
  },
  {
   "cell_type": "code",
   "execution_count": 192,
   "metadata": {},
   "outputs": [],
   "source": [
    "rookies_2020 = df.iloc[0:25]"
   ]
  },
  {
   "cell_type": "code",
   "execution_count": 193,
   "metadata": {},
   "outputs": [],
   "source": [
    "df = df.iloc[25:]\n",
    "train_set, test_set = train_test_split(df, test_size=0.2, random_state=42)"
   ]
  },
  {
   "cell_type": "code",
   "execution_count": 194,
   "metadata": {},
   "outputs": [],
   "source": [
    "df = train_set.copy()"
   ]
  },
  {
   "cell_type": "code",
   "execution_count": 195,
   "metadata": {},
   "outputs": [
    {
     "data": {
      "text/plain": [
       "0\n",
       "AVG PPG (PPR) Season 1-3                                                                                    1.000000\n",
       "RecYds/TmPatt AVG                                                                                           0.447496\n",
       "RecYds/TmPatt Last                                                                                          0.420834\n",
       "Y/TmPatt (Rec Yards Per Team Pass Attempt) 22                                                               0.417316\n",
       "REC TDs 19                                                                                                  0.410397\n",
       "                                                                                                              ...   \n",
       "Diff from AVG Dominator REC Yards Touchdown MS (>=1 top 24 PPR season by position, drafted 2003-2016) 19         NaN\n",
       "Diff from AVG Dominator REC Yards Touchdown MS (>=1 top 24 PPR season by position, drafted 2003-2016) 20         NaN\n",
       "Diff from AVG Dominator REC Yards Touchdown MS (>=1 top 24 PPR season by position, drafted 2003-2016) 21         NaN\n",
       "Diff from AVG Dominator REC Yards Touchdown MS (>=1 top 24 PPR season by position, drafted 2003-2016) 22         NaN\n",
       "23                                                                                                               NaN\n",
       "Name: AVG PPG (PPR) Season 1-3, Length: 97, dtype: float64"
      ]
     },
     "execution_count": 195,
     "metadata": {},
     "output_type": "execute_result"
    }
   ],
   "source": [
    "corr_matrix = df.corr()\n",
    "corr_matrix['AVG PPG (PPR) Season 1-3'].sort_values(ascending=False)"
   ]
  },
  {
   "cell_type": "code",
   "execution_count": 196,
   "metadata": {},
   "outputs": [],
   "source": [
    "labels = df['AVG PPG (PPR) Season 1-3'].fillna(0)\n",
    "rookies_2020_labels = rookies_2020['AVG PPG (PPR) Season 1-3'].fillna(0)"
   ]
  },
  {
   "cell_type": "code",
   "execution_count": 197,
   "metadata": {},
   "outputs": [],
   "source": [
    "df.drop(['AVG PPG (PPR) Season 1-3'], axis=1, inplace=True)"
   ]
  },
  {
   "cell_type": "code",
   "execution_count": 198,
   "metadata": {},
   "outputs": [],
   "source": [
    "undrafted_dr = df['DR'].max()+1\n",
    "undrafted_dp = df['DP'].max()+1"
   ]
  },
  {
   "cell_type": "code",
   "execution_count": 199,
   "metadata": {},
   "outputs": [],
   "source": [
    "def draft_nan(df):\n",
    "    df['DR'].fillna(undrafted_dr, inplace=True)\n",
    "    df['DP'].fillna(undrafted_dp, inplace=True)\n",
    "    return df"
   ]
  },
  {
   "cell_type": "code",
   "execution_count": 200,
   "metadata": {},
   "outputs": [],
   "source": [
    "df = draft_nan(df)\n",
    "rookies_2020 = draft_nan(rookies_2020)"
   ]
  },
  {
   "cell_type": "code",
   "execution_count": 201,
   "metadata": {},
   "outputs": [],
   "source": [
    "num_pipeline = Pipeline([\n",
    "    ('imputer', SimpleImputer(strategy=\"mean\")),\n",
    "    ('std_scaler', StandardScaler())])\n",
    "df_prepared = num_pipeline.fit_transform(df)"
   ]
  },
  {
   "cell_type": "code",
   "execution_count": 202,
   "metadata": {},
   "outputs": [
    {
     "data": {
      "text/plain": [
       "LinearRegression()"
      ]
     },
     "execution_count": 202,
     "metadata": {},
     "output_type": "execute_result"
    }
   ],
   "source": [
    "lin_reg = LinearRegression()\n",
    "lin_reg.fit(df_prepared, labels)"
   ]
  },
  {
   "cell_type": "code",
   "execution_count": 203,
   "metadata": {},
   "outputs": [
    {
     "data": {
      "text/plain": [
       "2.2760465252149804"
      ]
     },
     "execution_count": 203,
     "metadata": {},
     "output_type": "execute_result"
    }
   ],
   "source": [
    "predictions = lin_reg.predict(df_prepared)\n",
    "lin_mse = mse(labels, predictions)  \n",
    "lin_rmse = np.sqrt(lin_mse)\n",
    "lin_rmse"
   ]
  },
  {
   "cell_type": "code",
   "execution_count": 204,
   "metadata": {},
   "outputs": [
    {
     "data": {
      "text/plain": [
       "<matplotlib.collections.PathCollection at 0x7fcde7fe1510>"
      ]
     },
     "execution_count": 204,
     "metadata": {},
     "output_type": "execute_result"
    },
    {
     "data": {
      "image/png": "[encoded data removed]",
      "text/plain": [
       "<Figure size 432x288 with 1 Axes>"
      ]
     },
     "metadata": {
      "needs_background": "light"
     },
     "output_type": "display_data"
    }
   ],
   "source": [
    "df = pd.DataFrame({'Actual': labels, 'Predicted': predictions})\n",
    "df = df.sort_values(by='Predicted', ascending=False)\n",
    "plt.scatter(labels, predictions)"
   ]
  },
  {
   "cell_type": "code",
   "execution_count": 205,
   "metadata": {},
   "outputs": [],
   "source": [
    "def display_scores(scores):\n",
    "    print('Scores:', scores)\n",
    "    print('Mean:', scores.mean())\n",
    "    print('SD:', scores.std())"
   ]
  },
  {
   "cell_type": "code",
   "execution_count": 206,
   "metadata": {},
   "outputs": [
    {
     "name": "stdout",
     "output_type": "stream",
     "text": [
      "Scores: [2.59273824 4.19624707 2.68962418 2.65891821 3.9115604  4.48062498\n",
      " 2.90416517 3.31451381 2.95156448 2.40802221]\n",
      "Mean: 3.2107978756811817\n",
      "SD: 0.6963663786240695\n"
     ]
    }
   ],
   "source": [
    "lin_scores = cross_val_score(lin_reg, df_prepared, labels, scoring=\"neg_mean_squared_error\", cv=10)\n",
    "lin_rmse_scores = np.sqrt(-lin_scores)\n",
    "display_scores(lin_rmse_scores)"
   ]
  },
  {
   "cell_type": "code",
   "execution_count": 207,
   "metadata": {},
   "outputs": [
    {
     "data": {
      "text/plain": [
       "0.4726358181241308"
      ]
     },
     "execution_count": 207,
     "metadata": {},
     "output_type": "execute_result"
    }
   ],
   "source": [
    "r2_score(labels, predictions)"
   ]
  },
  {
   "cell_type": "code",
   "execution_count": 208,
   "metadata": {},
   "outputs": [
    {
     "data": {
      "text/plain": [
       "DecisionTreeRegressor()"
      ]
     },
     "execution_count": 208,
     "metadata": {},
     "output_type": "execute_result"
    }
   ],
   "source": [
    "tree_reg = DecisionTreeRegressor()\n",
    "tree_reg.fit(df_prepared, labels)"
   ]
  },
  {
   "cell_type": "code",
   "execution_count": 209,
   "metadata": {},
   "outputs": [
    {
     "data": {
      "text/plain": [
       "0.0"
      ]
     },
     "execution_count": 209,
     "metadata": {},
     "output_type": "execute_result"
    }
   ],
   "source": [
    "predictions = tree_reg.predict(df_prepared)\n",
    "tree_mse = mse(labels, predictions)\n",
    "tree_rmse = np.sqrt(tree_mse)\n",
    "tree_rmse"
   ]
  },
  {
   "cell_type": "code",
   "execution_count": 210,
   "metadata": {},
   "outputs": [
    {
     "data": {
      "text/plain": [
       "<matplotlib.collections.PathCollection at 0x7fcde7f95590>"
      ]
     },
     "execution_count": 210,
     "metadata": {},
     "output_type": "execute_result"
    },
    {
     "data": {
      "image/png": "[encoded data removed]",
      "text/plain": [
       "<Figure size 432x288 with 1 Axes>"
      ]
     },
     "metadata": {
      "needs_background": "light"
     },
     "output_type": "display_data"
    }
   ],
   "source": [
    "df = pd.DataFrame({'Actual': labels, 'Predicted': predictions})\n",
    "df = df.sort_values(by='Predicted', ascending=False)\n",
    "plt.scatter(labels, predictions)"
   ]
  },
  {
   "cell_type": "code",
   "execution_count": 211,
   "metadata": {},
   "outputs": [
    {
     "name": "stdout",
     "output_type": "stream",
     "text": [
      "Scores: [3.44693532 4.70698068 5.0053642  3.99246712 4.28795625 4.11136072\n",
      " 4.14917239 4.17533103 4.0888165  3.89240073]\n",
      "Mean: 4.185678495322637\n",
      "SD: 0.4049111594953679\n"
     ]
    }
   ],
   "source": [
    "tree_scores = cross_val_score(tree_reg, df_prepared, labels, scoring=\"neg_mean_squared_error\", cv=10) \n",
    "tree_rmse_scores = np.sqrt(-tree_scores)\n",
    "display_scores(tree_rmse_scores)"
   ]
  },
  {
   "cell_type": "code",
   "execution_count": 212,
   "metadata": {},
   "outputs": [
    {
     "data": {
      "text/plain": [
       "1.0"
      ]
     },
     "execution_count": 212,
     "metadata": {},
     "output_type": "execute_result"
    }
   ],
   "source": [
    "r2_score(labels, predictions)"
   ]
  },
  {
   "cell_type": "code",
   "execution_count": 213,
   "metadata": {},
   "outputs": [
    {
     "data": {
      "text/plain": [
       "RandomForestRegressor()"
      ]
     },
     "execution_count": 213,
     "metadata": {},
     "output_type": "execute_result"
    }
   ],
   "source": [
    "forest_reg = RandomForestRegressor()\n",
    "forest_reg.fit(df_prepared, labels)"
   ]
  },
  {
   "cell_type": "code",
   "execution_count": 214,
   "metadata": {},
   "outputs": [
    {
     "data": {
      "text/plain": [
       "1.0945459594164955"
      ]
     },
     "execution_count": 214,
     "metadata": {},
     "output_type": "execute_result"
    }
   ],
   "source": [
    "predictions = forest_reg.predict(df_prepared)\n",
    "forest_mse = mse(labels, predictions)\n",
    "forest_rmse = np.sqrt(forest_mse)\n",
    "forest_rmse"
   ]
  },
  {
   "cell_type": "code",
   "execution_count": 215,
   "metadata": {},
   "outputs": [
    {
     "data": {
      "text/plain": [
       "<matplotlib.collections.PathCollection at 0x7fcde9972610>"
      ]
     },
     "execution_count": 215,
     "metadata": {},
     "output_type": "execute_result"
    },
    {
     "data": {
      "image/png": "[encoded data removed]",
      "text/plain": [
       "<Figure size 432x288 with 1 Axes>"
      ]
     },
     "metadata": {
      "needs_background": "light"
     },
     "output_type": "display_data"
    }
   ],
   "source": [
    "df = pd.DataFrame({'Actual': labels, 'Predicted': predictions})\n",
    "df = df.sort_values(by='Predicted', ascending=False)\n",
    "plt.scatter(labels, predictions)"
   ]
  },
  {
   "cell_type": "code",
   "execution_count": 216,
   "metadata": {},
   "outputs": [
    {
     "name": "stdout",
     "output_type": "stream",
     "text": [
      "Scores: [2.3215417  3.64925129 2.68966151 2.53657691 3.45754364 3.08511645\n",
      " 2.92389187 2.68985619 2.59312608 2.92449858]\n",
      "Mean: 2.8871064217429163\n",
      "SD: 0.39436958677004047\n"
     ]
    }
   ],
   "source": [
    "forest_scores = cross_val_score(forest_reg, df_prepared, labels, scoring=\"neg_mean_squared_error\", cv=10)\n",
    "forest_rmse_scores = np.sqrt(-forest_scores)\n",
    "display_scores(forest_rmse_scores)"
   ]
  },
  {
   "cell_type": "code",
   "execution_count": 217,
   "metadata": {},
   "outputs": [
    {
     "data": {
      "text/plain": [
       "0.8780402956038951"
      ]
     },
     "execution_count": 217,
     "metadata": {},
     "output_type": "execute_result"
    }
   ],
   "source": [
    "r2_score(labels, predictions)"
   ]
  }
 ],
 "metadata": {
  "kernelspec": {
   "display_name": "Python 3",
   "language": "python",
   "name": "python3"
  },
  "language_info": {
   "codemirror_mode": {
    "name": "ipython",
    "version": 3
   },
   "file_extension": ".py",
   "mimetype": "text/x-python",
   "name": "python",
   "nbconvert_exporter": "python",
   "pygments_lexer": "ipython3",
   "version": "3.7.7"
  }
 },
 "nbformat": 4,
 "nbformat_minor": 4
}
