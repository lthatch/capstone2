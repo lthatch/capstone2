{
 "cells": [
  {
   "cell_type": "code",
   "execution_count": 932,
   "metadata": {},
   "outputs": [],
   "source": [
    "import pandas as pd\n",
    "import numpy as np\n",
    "import matplotlib.pyplot as plt\n",
    "import seaborn as sns\n",
    "from sklearn.model_selection import train_test_split, StratifiedShuffleSplit, cross_val_score, GridSearchCV\n",
    "from sklearn.impute import SimpleImputer\n",
    "from sklearn.pipeline import Pipeline\n",
    "from sklearn.preprocessing import StandardScaler\n",
    "from sklearn.linear_model import LinearRegression\n",
    "from sklearn.metrics import mean_squared_error as mse\n",
    "from sklearn.metrics import r2_score\n",
    "from sklearn.tree import DecisionTreeRegressor\n",
    "from sklearn.ensemble import RandomForestRegressor\n",
    "import joblib"
   ]
  },
  {
   "cell_type": "code",
   "execution_count": 933,
   "metadata": {},
   "outputs": [],
   "source": [
    "df = pd.read_csv('data/Copy of Pahowdy\\'s MS Database - WR.csv')"
   ]
  },
  {
   "cell_type": "code",
   "execution_count": 934,
   "metadata": {},
   "outputs": [],
   "source": [
    "new_header = df.iloc[0] \n",
    "df = df[1:] \n",
    "df.columns = new_header"
   ]
  },
  {
   "cell_type": "code",
   "execution_count": 935,
   "metadata": {},
   "outputs": [],
   "source": [
    "df.drop(['School', 'Conference', 'NFL POS', 'Production Score', 'Combine Score', 'Efficency Score',\n",
    "        'Pre-Draft', 'Post-Draft', '# of top 5  finishes', '# of top  12 finishes', '# of top  24 finishes',\n",
    "         '# of top  36 finishes', '# of 1000 Rec yards seasons'], axis=1, inplace=True)"
   ]
  },
  {
   "cell_type": "code",
   "execution_count": 937,
   "metadata": {},
   "outputs": [],
   "source": [
    "# drop 2020 college players\n",
    "df.drop(list(range(1, 12)), inplace=True)"
   ]
  },
  {
   "cell_type": "code",
   "execution_count": 938,
   "metadata": {},
   "outputs": [],
   "source": [
    "df = df.reset_index(drop=True)\n",
    "df = df.set_index('Name')"
   ]
  },
  {
   "cell_type": "code",
   "execution_count": 939,
   "metadata": {},
   "outputs": [],
   "source": [
    "# function to change elements to numeric\n",
    "def clean(df):\n",
    "    for i in df:\n",
    "        if isinstance(i, str):\n",
    "            var = pd.to_numeric(df[f'{i}'], errors='coerce')\n",
    "            df[f'{i}'] = var\n",
    "        else:\n",
    "            var = pd.to_numeric(df[i], errors='coerce')\n",
    "            df[i] = var\n",
    "    return df"
   ]
  },
  {
   "cell_type": "code",
   "execution_count": 940,
   "metadata": {},
   "outputs": [],
   "source": [
    "df = clean(df)"
   ]
  },
  {
   "cell_type": "code",
   "execution_count": 941,
   "metadata": {},
   "outputs": [],
   "source": [
    "rookies_2020 = df.iloc[0:70]"
   ]
  },
  {
   "cell_type": "code",
   "execution_count": 942,
   "metadata": {},
   "outputs": [],
   "source": [
    "df = df.iloc[70:]\n",
    "train_set, test_set = train_test_split(df, test_size=0.2, random_state=42)"
   ]
  },
  {
   "cell_type": "code",
   "execution_count": 943,
   "metadata": {},
   "outputs": [],
   "source": [
    "df = train_set.copy()\n",
    "df_test = test_set.copy()"
   ]
  },
  {
   "cell_type": "code",
   "execution_count": 944,
   "metadata": {},
   "outputs": [
    {
     "data": {
      "text/plain": [
       "0\n",
       "AVG PPG (PPR) Season 1-3                                                                                        1.000000\n",
       "RECs 23                                                                                                         0.570457\n",
       "REC Yards 23                                                                                                    0.552868\n",
       "Y/TmPatt (Rec Yards Per Team Pass Attempt) 23                                                                   0.530638\n",
       "PPR PPG 23                                                                                                      0.517569\n",
       "                                                                                                                  ...   \n",
       "DOa Diff from AVG Dominator REC Yards Touchdown MS (>=1 top 24 PPR season by position, drafted 2003-2016) 19         NaN\n",
       "DOa Diff from AVG Dominator REC Yards Touchdown MS (>=1 top 24 PPR season by position, drafted 2003-2016) 20         NaN\n",
       "DOa Diff from AVG Dominator REC Yards Touchdown MS (>=1 top 24 PPR season by position, drafted 2003-2016) 21         NaN\n",
       "DOa Diff from AVG Dominator REC Yards Touchdown MS (>=1 top 24 PPR season by position, drafted 2003-2016) 22         NaN\n",
       "23                                                                                                                   NaN\n",
       "Name: AVG PPG (PPR) Season 1-3, Length: 143, dtype: float64"
      ]
     },
     "execution_count": 944,
     "metadata": {},
     "output_type": "execute_result"
    }
   ],
   "source": [
    "corr_matrix = df.corr()\n",
    "corr_matrix['AVG PPG (PPR) Season 1-3'].sort_values(ascending=False)"
   ]
  },
  {
   "cell_type": "code",
   "execution_count": 945,
   "metadata": {},
   "outputs": [
    {
     "data": {
      "text/plain": [
       "Index(['DR', 'DP', 'Draft Year', 'Age IN DRAFT YEAR', 'Years Played', 'G',\n",
       "       'AVG PPG', 'rec', 'YARDS', 'YPR',\n",
       "       ...\n",
       "       'Bench', 'Verticle', 'Broad', 'Shuttle', '3 Cone', 'WaSS', 'HaSS',\n",
       "       'Hand Size', 'Arm Length', 'AVG PPG (PPR) Season 1-3'],\n",
       "      dtype='object', name=0, length=143)"
      ]
     },
     "execution_count": 945,
     "metadata": {},
     "output_type": "execute_result"
    }
   ],
   "source": [
    "# attributes = ['AVG PPG (PPR) Season 1-3', 'RECs 23', 'REC Yards 23', 'Y/TmPatt (Rec Yards Per Team Pass Attempt) 23',\n",
    "#               'PPR PPG 23']\n",
    "attributes = df.columns\n",
    "attributes"
   ]
  },
  {
   "cell_type": "code",
   "execution_count": 946,
   "metadata": {},
   "outputs": [],
   "source": [
    "# pd.plotting.scatter_matrix(df[attributes], figsize=(12, 8))"
   ]
  },
  {
   "cell_type": "code",
   "execution_count": 947,
   "metadata": {},
   "outputs": [],
   "source": [
    "labels = df['AVG PPG (PPR) Season 1-3'].fillna(0)\n",
    "test_labels = df_test['AVG PPG (PPR) Season 1-3'].fillna(0)\n",
    "rookies_2020_labels = rookies_2020['AVG PPG (PPR) Season 1-3'].fillna(0)"
   ]
  },
  {
   "cell_type": "code",
   "execution_count": 948,
   "metadata": {},
   "outputs": [],
   "source": [
    "df.drop(['AVG PPG (PPR) Season 1-3'], axis=1, inplace=True)\n",
    "df_test.drop(['AVG PPG (PPR) Season 1-3'], axis=1, inplace=True)"
   ]
  },
  {
   "cell_type": "code",
   "execution_count": 949,
   "metadata": {},
   "outputs": [],
   "source": [
    "undrafted_dr = df['DR'].max()+1\n",
    "undrafted_dp = df['DP'].max()+1"
   ]
  },
  {
   "cell_type": "code",
   "execution_count": 950,
   "metadata": {},
   "outputs": [],
   "source": [
    "def draft_nan(df):\n",
    "    df['DR'].fillna(undrafted_dr, inplace=True)\n",
    "    df['DP'].fillna(undrafted_dp, inplace=True)\n",
    "    return df"
   ]
  },
  {
   "cell_type": "code",
   "execution_count": 951,
   "metadata": {},
   "outputs": [],
   "source": [
    "df = draft_nan(df)\n",
    "df_test = draft_nan(df_test)\n",
    "rookies_2020 = draft_nan(rookies_2020)"
   ]
  },
  {
   "cell_type": "code",
   "execution_count": 952,
   "metadata": {},
   "outputs": [],
   "source": [
    "num_pipeline = Pipeline([\n",
    "    ('imputer', SimpleImputer(strategy=\"mean\")),\n",
    "    ('std_scaler', StandardScaler())])\n",
    "df_prepared = num_pipeline.fit_transform(df)\n",
    "df_test_prepared = num_pipeline.transform(df_test)"
   ]
  },
  {
   "cell_type": "markdown",
   "metadata": {},
   "source": [
    "# Linear regression"
   ]
  },
  {
   "cell_type": "code",
   "execution_count": 879,
   "metadata": {},
   "outputs": [
    {
     "data": {
      "text/plain": [
       "LinearRegression()"
      ]
     },
     "execution_count": 879,
     "metadata": {},
     "output_type": "execute_result"
    }
   ],
   "source": [
    "lin_reg = LinearRegression()\n",
    "lin_reg.fit(df_prepared, labels)"
   ]
  },
  {
   "cell_type": "code",
   "execution_count": 880,
   "metadata": {},
   "outputs": [],
   "source": [
    "# joblib.dump(lin_reg, \"wr_lin_reg.pkl\")"
   ]
  },
  {
   "cell_type": "code",
   "execution_count": 881,
   "metadata": {},
   "outputs": [
    {
     "data": {
      "text/plain": [
       "3.2684922248197386"
      ]
     },
     "execution_count": 881,
     "metadata": {},
     "output_type": "execute_result"
    }
   ],
   "source": [
    "predictions = lin_reg.predict(df_prepared)\n",
    "lin_mse = mse(labels, predictions)  \n",
    "lin_rmse = np.sqrt(lin_mse)\n",
    "lin_rmse"
   ]
  },
  {
   "cell_type": "code",
   "execution_count": 882,
   "metadata": {},
   "outputs": [
    {
     "data": {
      "image/png": "[encoded data removed]",
      "text/plain": [
       "<Figure size 432x288 with 1 Axes>"
      ]
     },
     "metadata": {
      "needs_background": "light"
     },
     "output_type": "display_data"
    }
   ],
   "source": [
    "df = pd.DataFrame({'Actual': labels, 'Predicted': predictions})\n",
    "df = df.sort_values(by='Predicted', ascending=False)\n",
    "fig, ax = plt.subplots()\n",
    "plot = sns.regplot(\n",
    "x=labels,\n",
    "y=predictions,\n",
    "scatter=True)"
   ]
  },
  {
   "cell_type": "code",
   "execution_count": 883,
   "metadata": {},
   "outputs": [],
   "source": [
    "def display_scores(scores):\n",
    "    print('Scores:', scores)\n",
    "    print('Mean:', scores.mean())\n",
    "    print('SD:', scores.std())"
   ]
  },
  {
   "cell_type": "code",
   "execution_count": 884,
   "metadata": {},
   "outputs": [
    {
     "name": "stdout",
     "output_type": "stream",
     "text": [
      "Scores: [3.79680359 4.77203577 3.90014558 3.75396676 4.3431335  5.17491174\n",
      " 3.71229334 4.08945177 3.57572191 4.5236772 ]\n",
      "Mean: 4.164214116385125\n",
      "SD: 0.4981318277845135\n"
     ]
    }
   ],
   "source": [
    "lin_scores = cross_val_score(lin_reg, df_prepared, labels, scoring=\"neg_mean_squared_error\", cv=10)\n",
    "lin_rmse_scores = np.sqrt(-lin_scores)\n",
    "display_scores(lin_rmse_scores)"
   ]
  },
  {
   "cell_type": "code",
   "execution_count": 885,
   "metadata": {},
   "outputs": [
    {
     "data": {
      "text/plain": [
       "0.38870863845455883"
      ]
     },
     "execution_count": 885,
     "metadata": {},
     "output_type": "execute_result"
    }
   ],
   "source": [
    "r2_score(labels, predictions)"
   ]
  },
  {
   "cell_type": "code",
   "execution_count": 886,
   "metadata": {},
   "outputs": [
    {
     "data": {
      "text/plain": [
       "3.843790293244579"
      ]
     },
     "execution_count": 886,
     "metadata": {},
     "output_type": "execute_result"
    }
   ],
   "source": [
    "predictions = lin_reg.predict(df_test_prepared)\n",
    "lin_mse = mse(test_labels, predictions)  \n",
    "lin_rmse = np.sqrt(lin_mse)\n",
    "lin_rmse"
   ]
  },
  {
   "cell_type": "code",
   "execution_count": 887,
   "metadata": {},
   "outputs": [
    {
     "data": {
      "image/png": "[encoded data removed]",
      "text/plain": [
       "<Figure size 432x288 with 1 Axes>"
      ]
     },
     "metadata": {
      "needs_background": "light"
     },
     "output_type": "display_data"
    }
   ],
   "source": [
    "df = pd.DataFrame({'Actual': test_labels, 'Predicted': predictions})\n",
    "df = df.sort_values(by='Predicted', ascending=False)\n",
    "fig, ax = plt.subplots()\n",
    "plot = sns.regplot(\n",
    "x=test_labels,\n",
    "y=predictions,\n",
    "scatter=True)"
   ]
  },
  {
   "cell_type": "code",
   "execution_count": 888,
   "metadata": {},
   "outputs": [
    {
     "name": "stdout",
     "output_type": "stream",
     "text": [
      "Scores: [   8.48450582    5.88429037   16.65002138    5.16728063   10.09525056\n",
      "    5.81432347    6.81205756    4.76565156   14.68508058 1237.63149217]\n",
      "Mean: 131.59899540939261\n",
      "SD: 368.69767802181525\n"
     ]
    }
   ],
   "source": [
    "lin_scores = cross_val_score(lin_reg, df_test_prepared, test_labels, scoring=\"neg_mean_squared_error\", cv=10)\n",
    "lin_rmse_scores = np.sqrt(-lin_scores)\n",
    "display_scores(lin_rmse_scores)"
   ]
  },
  {
   "cell_type": "code",
   "execution_count": 889,
   "metadata": {},
   "outputs": [
    {
     "data": {
      "text/plain": [
       "0.1448079890011622"
      ]
     },
     "execution_count": 889,
     "metadata": {},
     "output_type": "execute_result"
    }
   ],
   "source": [
    "r2_score(test_labels, predictions)"
   ]
  },
  {
   "cell_type": "markdown",
   "metadata": {},
   "source": [
    "# Decision Tree"
   ]
  },
  {
   "cell_type": "code",
   "execution_count": 890,
   "metadata": {},
   "outputs": [
    {
     "data": {
      "text/plain": [
       "DecisionTreeRegressor(random_state=42)"
      ]
     },
     "execution_count": 890,
     "metadata": {},
     "output_type": "execute_result"
    }
   ],
   "source": [
    "tree_reg = DecisionTreeRegressor(random_state=42)\n",
    "tree_reg.fit(df_prepared, labels)"
   ]
  },
  {
   "cell_type": "code",
   "execution_count": 891,
   "metadata": {},
   "outputs": [],
   "source": [
    "# joblib.dump(tree_reg, \"wr_tree_reg.pkl\")"
   ]
  },
  {
   "cell_type": "code",
   "execution_count": 892,
   "metadata": {},
   "outputs": [
    {
     "data": {
      "text/plain": [
       "0.0"
      ]
     },
     "execution_count": 892,
     "metadata": {},
     "output_type": "execute_result"
    }
   ],
   "source": [
    "predictions = tree_reg.predict(df_prepared)\n",
    "tree_mse = mse(labels, predictions)\n",
    "tree_rmse = np.sqrt(tree_mse)\n",
    "tree_rmse"
   ]
  },
  {
   "cell_type": "code",
   "execution_count": 893,
   "metadata": {},
   "outputs": [
    {
     "data": {
      "image/png": "[encoded data removed]",
      "text/plain": [
       "<Figure size 432x288 with 1 Axes>"
      ]
     },
     "metadata": {
      "needs_background": "light"
     },
     "output_type": "display_data"
    }
   ],
   "source": [
    "df = pd.DataFrame({'Actual': labels, 'Predicted': predictions})\n",
    "df = df.sort_values(by='Predicted', ascending=False)\n",
    "fig, ax = plt.subplots()\n",
    "plot = sns.regplot(\n",
    "x=labels,\n",
    "y=predictions,\n",
    "scatter=True)"
   ]
  },
  {
   "cell_type": "code",
   "execution_count": 894,
   "metadata": {},
   "outputs": [
    {
     "name": "stdout",
     "output_type": "stream",
     "text": [
      "Scores: [5.07548899 5.91533877 4.59594644 7.09089929 4.78609219 6.24659538\n",
      " 4.96036474 5.72201255 4.91885229 5.12097662]\n",
      "Mean: 5.443256725786824\n",
      "SD: 0.7455030161002951\n"
     ]
    }
   ],
   "source": [
    "tree_scores = cross_val_score(tree_reg, df_prepared, labels, scoring=\"neg_mean_squared_error\", cv=10) \n",
    "tree_rmse_scores = np.sqrt(-tree_scores)\n",
    "display_scores(tree_rmse_scores)"
   ]
  },
  {
   "cell_type": "code",
   "execution_count": 895,
   "metadata": {},
   "outputs": [
    {
     "data": {
      "text/plain": [
       "1.0"
      ]
     },
     "execution_count": 895,
     "metadata": {},
     "output_type": "execute_result"
    }
   ],
   "source": [
    "r2_score(labels, predictions)"
   ]
  },
  {
   "cell_type": "code",
   "execution_count": 896,
   "metadata": {},
   "outputs": [
    {
     "data": {
      "text/plain": [
       "5.025275164976446"
      ]
     },
     "execution_count": 896,
     "metadata": {},
     "output_type": "execute_result"
    }
   ],
   "source": [
    "predictions = tree_reg.predict(df_test_prepared)\n",
    "tree_mse = mse(test_labels, predictions)\n",
    "tree_rmse = np.sqrt(tree_mse)\n",
    "tree_rmse"
   ]
  },
  {
   "cell_type": "code",
   "execution_count": 897,
   "metadata": {},
   "outputs": [
    {
     "data": {
      "image/png": "[encoded data removed]",
      "text/plain": [
       "<Figure size 432x288 with 1 Axes>"
      ]
     },
     "metadata": {
      "needs_background": "light"
     },
     "output_type": "display_data"
    }
   ],
   "source": [
    "df = pd.DataFrame({'Actual': test_labels, 'Predicted': predictions})\n",
    "df = df.sort_values(by='Predicted', ascending=False)\n",
    "fig, ax = plt.subplots()\n",
    "plot = sns.regplot(\n",
    "x=test_labels,\n",
    "y=predictions,\n",
    "scatter=True)"
   ]
  },
  {
   "cell_type": "code",
   "execution_count": 898,
   "metadata": {},
   "outputs": [
    {
     "name": "stdout",
     "output_type": "stream",
     "text": [
      "Scores: [5.46011114 4.74292399 4.3239585  5.7239927  3.75980351 6.15776672\n",
      " 3.06815528 4.52002741 6.37186197 6.11504514]\n",
      "Mean: 5.024364637070431\n",
      "SD: 1.0592115579273382\n"
     ]
    }
   ],
   "source": [
    "tree_scores = cross_val_score(tree_reg, df_test_prepared, test_labels, scoring=\"neg_mean_squared_error\", cv=10) \n",
    "tree_rmse_scores = np.sqrt(-tree_scores)\n",
    "display_scores(tree_rmse_scores)"
   ]
  },
  {
   "cell_type": "code",
   "execution_count": 899,
   "metadata": {},
   "outputs": [
    {
     "data": {
      "text/plain": [
       "-0.4617192211311072"
      ]
     },
     "execution_count": 899,
     "metadata": {},
     "output_type": "execute_result"
    }
   ],
   "source": [
    "r2_score(test_labels, predictions)"
   ]
  },
  {
   "cell_type": "markdown",
   "metadata": {},
   "source": [
    "# Random Forest"
   ]
  },
  {
   "cell_type": "code",
   "execution_count": 900,
   "metadata": {},
   "outputs": [
    {
     "data": {
      "text/plain": [
       "RandomForestRegressor(random_state=42)"
      ]
     },
     "execution_count": 900,
     "metadata": {},
     "output_type": "execute_result"
    }
   ],
   "source": [
    "forest_reg = RandomForestRegressor(n_estimators=100, random_state=42)\n",
    "forest_reg.fit(df_prepared, labels)"
   ]
  },
  {
   "cell_type": "code",
   "execution_count": 901,
   "metadata": {},
   "outputs": [],
   "source": [
    "# joblib.dump(forest_reg, \"wr_forest_reg.pkl\")"
   ]
  },
  {
   "cell_type": "code",
   "execution_count": 902,
   "metadata": {},
   "outputs": [
    {
     "data": {
      "text/plain": [
       "1.3738364809242756"
      ]
     },
     "execution_count": 902,
     "metadata": {},
     "output_type": "execute_result"
    }
   ],
   "source": [
    "predictions = forest_reg.predict(df_prepared)\n",
    "forest_mse = mse(labels, predictions)\n",
    "forest_rmse = np.sqrt(forest_mse)\n",
    "forest_rmse"
   ]
  },
  {
   "cell_type": "code",
   "execution_count": 903,
   "metadata": {},
   "outputs": [
    {
     "data": {
      "image/png": "[encoded data removed]",
      "text/plain": [
       "<Figure size 432x288 with 1 Axes>"
      ]
     },
     "metadata": {
      "needs_background": "light"
     },
     "output_type": "display_data"
    }
   ],
   "source": [
    "df = pd.DataFrame({'Actual': labels, 'Predicted': predictions})\n",
    "df = df.sort_values(by='Predicted', ascending=False)\n",
    "fig, ax = plt.subplots()\n",
    "plot = sns.regplot(\n",
    "x=labels,\n",
    "y=predictions,\n",
    "scatter=True)"
   ]
  },
  {
   "cell_type": "code",
   "execution_count": 904,
   "metadata": {},
   "outputs": [
    {
     "name": "stdout",
     "output_type": "stream",
     "text": [
      "Scores: [3.49670996 4.4865293  3.41062917 3.76471156 3.46866749 3.75482137\n",
      " 3.22444063 3.47825009 3.21311454 3.09104491]\n",
      "Mean: 3.538891903083466\n",
      "SD: 0.3778959708771454\n"
     ]
    }
   ],
   "source": [
    "forest_scores = cross_val_score(forest_reg, df_prepared, labels, scoring=\"neg_mean_squared_error\", cv=10)\n",
    "forest_rmse_scores = np.sqrt(-forest_scores)\n",
    "display_scores(forest_rmse_scores)"
   ]
  },
  {
   "cell_type": "code",
   "execution_count": 905,
   "metadata": {},
   "outputs": [
    {
     "data": {
      "text/plain": [
       "0.8920000796567635"
      ]
     },
     "execution_count": 905,
     "metadata": {},
     "output_type": "execute_result"
    }
   ],
   "source": [
    "r2_score(labels, predictions)"
   ]
  },
  {
   "cell_type": "code",
   "execution_count": 906,
   "metadata": {},
   "outputs": [
    {
     "data": {
      "text/plain": [
       "3.470763221823581"
      ]
     },
     "execution_count": 906,
     "metadata": {},
     "output_type": "execute_result"
    }
   ],
   "source": [
    "predictions = forest_reg.predict(df_test_prepared)\n",
    "forest_mse = mse(test_labels, predictions)\n",
    "forest_rmse = np.sqrt(forest_mse)\n",
    "forest_rmse"
   ]
  },
  {
   "cell_type": "code",
   "execution_count": 907,
   "metadata": {},
   "outputs": [
    {
     "data": {
      "image/png": "[encoded data removed]",
      "text/plain": [
       "<Figure size 432x288 with 1 Axes>"
      ]
     },
     "metadata": {
      "needs_background": "light"
     },
     "output_type": "display_data"
    }
   ],
   "source": [
    "df = pd.DataFrame({'Actual': test_labels, 'Predicted': predictions})\n",
    "df = df.sort_values(by='Predicted', ascending=False)\n",
    "fig, ax = plt.subplots()\n",
    "plot = sns.regplot(\n",
    "x=test_labels,\n",
    "y=predictions,\n",
    "scatter=True)"
   ]
  },
  {
   "cell_type": "code",
   "execution_count": 908,
   "metadata": {},
   "outputs": [
    {
     "name": "stdout",
     "output_type": "stream",
     "text": [
      "Scores: [4.49156165 3.06140704 4.39645265 4.02596735 3.26635017 4.28401416\n",
      " 2.11572128 3.35786819 2.46885037 4.8690524 ]\n",
      "Mean: 3.6337245269493463\n",
      "SD: 0.8729420560094002\n"
     ]
    }
   ],
   "source": [
    "forest_scores = cross_val_score(forest_reg, df_test_prepared, test_labels, scoring=\"neg_mean_squared_error\", cv=10)\n",
    "forest_rmse_scores = np.sqrt(-forest_scores)\n",
    "display_scores(forest_rmse_scores)"
   ]
  },
  {
   "cell_type": "code",
   "execution_count": 909,
   "metadata": {},
   "outputs": [
    {
     "data": {
      "text/plain": [
       "0.30274082572670236"
      ]
     },
     "execution_count": 909,
     "metadata": {},
     "output_type": "execute_result"
    }
   ],
   "source": [
    "r2_score(test_labels, predictions)"
   ]
  },
  {
   "cell_type": "code",
   "execution_count": 910,
   "metadata": {},
   "outputs": [
    {
     "data": {
      "text/plain": [
       "GridSearchCV(cv=5, estimator=RandomForestRegressor(random_state=42),\n",
       "             param_grid=[{'max_depth': [1, 2, 3, 4, 5],\n",
       "                          'max_features': [2, 4, 6],\n",
       "                          'n_estimators': [3, 10, 30]}],\n",
       "             return_train_score=True, scoring='neg_mean_squared_error')"
      ]
     },
     "execution_count": 910,
     "metadata": {},
     "output_type": "execute_result"
    }
   ],
   "source": [
    "param_grid = [{'n_estimators': [3, 10, 30], 'max_features': [2, 4, 6], 'max_depth': [1, 2, 3, 4, 5]}]\n",
    "\n",
    "forest_reg = RandomForestRegressor(random_state=42)\n",
    "grid_search = GridSearchCV(forest_reg, param_grid, cv=5,\n",
    "                           scoring='neg_mean_squared_error',\n",
    "                           return_train_score=True)\n",
    "grid_search.fit(df_prepared, labels)"
   ]
  },
  {
   "cell_type": "code",
   "execution_count": 911,
   "metadata": {},
   "outputs": [
    {
     "data": {
      "text/plain": [
       "{'max_depth': 5, 'max_features': 4, 'n_estimators': 30}"
      ]
     },
     "execution_count": 911,
     "metadata": {},
     "output_type": "execute_result"
    }
   ],
   "source": [
    "grid_search.best_params_"
   ]
  },
  {
   "cell_type": "code",
   "execution_count": 912,
   "metadata": {},
   "outputs": [
    {
     "data": {
      "text/plain": [
       "RandomForestRegressor(max_depth=5, max_features=4, n_estimators=30,\n",
       "                      random_state=42)"
      ]
     },
     "execution_count": 912,
     "metadata": {},
     "output_type": "execute_result"
    }
   ],
   "source": [
    "grid_search.best_estimator_"
   ]
  },
  {
   "cell_type": "code",
   "execution_count": 913,
   "metadata": {},
   "outputs": [
    {
     "name": "stdout",
     "output_type": "stream",
     "text": [
      "4.041732989967386 {'max_depth': 1, 'max_features': 2, 'n_estimators': 3}\n",
      "4.039686012781908 {'max_depth': 1, 'max_features': 2, 'n_estimators': 10}\n",
      "3.9258555348125723 {'max_depth': 1, 'max_features': 2, 'n_estimators': 30}\n",
      "4.068448663051864 {'max_depth': 1, 'max_features': 4, 'n_estimators': 3}\n",
      "4.013615680279316 {'max_depth': 1, 'max_features': 4, 'n_estimators': 10}\n",
      "3.890334957418303 {'max_depth': 1, 'max_features': 4, 'n_estimators': 30}\n",
      "4.07165391028173 {'max_depth': 1, 'max_features': 6, 'n_estimators': 3}\n",
      "3.971023788197395 {'max_depth': 1, 'max_features': 6, 'n_estimators': 10}\n",
      "3.867669233109974 {'max_depth': 1, 'max_features': 6, 'n_estimators': 30}\n",
      "4.017273748192735 {'max_depth': 2, 'max_features': 2, 'n_estimators': 3}\n",
      "3.9234026903496355 {'max_depth': 2, 'max_features': 2, 'n_estimators': 10}\n",
      "3.8095160675653563 {'max_depth': 2, 'max_features': 2, 'n_estimators': 30}\n",
      "3.9788749667893852 {'max_depth': 2, 'max_features': 4, 'n_estimators': 3}\n",
      "3.819569003265279 {'max_depth': 2, 'max_features': 4, 'n_estimators': 10}\n",
      "3.739021217100193 {'max_depth': 2, 'max_features': 4, 'n_estimators': 30}\n",
      "3.975411579033752 {'max_depth': 2, 'max_features': 6, 'n_estimators': 3}\n",
      "3.7865040772090928 {'max_depth': 2, 'max_features': 6, 'n_estimators': 10}\n",
      "3.729462342217026 {'max_depth': 2, 'max_features': 6, 'n_estimators': 30}\n",
      "4.01655238913084 {'max_depth': 3, 'max_features': 2, 'n_estimators': 3}\n",
      "3.875477483871403 {'max_depth': 3, 'max_features': 2, 'n_estimators': 10}\n",
      "3.7901325376081125 {'max_depth': 3, 'max_features': 2, 'n_estimators': 30}\n",
      "3.924597677090748 {'max_depth': 3, 'max_features': 4, 'n_estimators': 3}\n",
      "3.709062141804591 {'max_depth': 3, 'max_features': 4, 'n_estimators': 10}\n",
      "3.6582308715977905 {'max_depth': 3, 'max_features': 4, 'n_estimators': 30}\n",
      "3.865542552681053 {'max_depth': 3, 'max_features': 6, 'n_estimators': 3}\n",
      "3.7502742645875036 {'max_depth': 3, 'max_features': 6, 'n_estimators': 10}\n",
      "3.6521384835919153 {'max_depth': 3, 'max_features': 6, 'n_estimators': 30}\n",
      "4.068595457537795 {'max_depth': 4, 'max_features': 2, 'n_estimators': 3}\n",
      "3.8057906640355528 {'max_depth': 4, 'max_features': 2, 'n_estimators': 10}\n",
      "3.7236116938637696 {'max_depth': 4, 'max_features': 2, 'n_estimators': 30}\n",
      "3.940464317446134 {'max_depth': 4, 'max_features': 4, 'n_estimators': 3}\n",
      "3.695919980532212 {'max_depth': 4, 'max_features': 4, 'n_estimators': 10}\n",
      "3.6412362099562996 {'max_depth': 4, 'max_features': 4, 'n_estimators': 30}\n",
      "3.9187902139131063 {'max_depth': 4, 'max_features': 6, 'n_estimators': 3}\n",
      "3.7508330658239095 {'max_depth': 4, 'max_features': 6, 'n_estimators': 10}\n",
      "3.655589078657428 {'max_depth': 4, 'max_features': 6, 'n_estimators': 30}\n",
      "4.128714334981529 {'max_depth': 5, 'max_features': 2, 'n_estimators': 3}\n",
      "3.819684423425848 {'max_depth': 5, 'max_features': 2, 'n_estimators': 10}\n",
      "3.7223674057474145 {'max_depth': 5, 'max_features': 2, 'n_estimators': 30}\n",
      "3.9160261685309963 {'max_depth': 5, 'max_features': 4, 'n_estimators': 3}\n",
      "3.68334721859503 {'max_depth': 5, 'max_features': 4, 'n_estimators': 10}\n",
      "3.5802282585740306 {'max_depth': 5, 'max_features': 4, 'n_estimators': 30}\n",
      "3.902022387515126 {'max_depth': 5, 'max_features': 6, 'n_estimators': 3}\n",
      "3.6830701929247116 {'max_depth': 5, 'max_features': 6, 'n_estimators': 10}\n",
      "3.6469502049007496 {'max_depth': 5, 'max_features': 6, 'n_estimators': 30}\n"
     ]
    }
   ],
   "source": [
    "cvres = grid_search.cv_results_\n",
    "for mean_score, params in zip(cvres[\"mean_test_score\"], cvres[\"params\"]):\n",
    "    print(np.sqrt(-mean_score), params)"
   ]
  },
  {
   "cell_type": "code",
   "execution_count": 914,
   "metadata": {},
   "outputs": [
    {
     "data": {
      "text/plain": [
       "RandomForestRegressor(max_depth=3, max_features=2, n_estimators=30,\n",
       "                      random_state=42)"
      ]
     },
     "execution_count": 914,
     "metadata": {},
     "output_type": "execute_result"
    }
   ],
   "source": [
    "forest_reg = RandomForestRegressor(max_depth=3, max_features=2, n_estimators=30, random_state=42)\n",
    "forest_reg.fit(df_prepared, labels)"
   ]
  },
  {
   "cell_type": "code",
   "execution_count": 915,
   "metadata": {},
   "outputs": [
    {
     "data": {
      "text/plain": [
       "3.4979957330351708"
      ]
     },
     "execution_count": 915,
     "metadata": {},
     "output_type": "execute_result"
    }
   ],
   "source": [
    "predictions = forest_reg.predict(df_prepared)\n",
    "forest_mse = mse(labels, predictions)\n",
    "forest_rmse = np.sqrt(forest_mse)\n",
    "forest_rmse"
   ]
  },
  {
   "cell_type": "code",
   "execution_count": 916,
   "metadata": {},
   "outputs": [
    {
     "data": {
      "image/png": "[encoded data removed]",
      "text/plain": [
       "<Figure size 432x288 with 1 Axes>"
      ]
     },
     "metadata": {
      "needs_background": "light"
     },
     "output_type": "display_data"
    }
   ],
   "source": [
    "df = pd.DataFrame({'Actual': labels, 'Predicted': predictions})\n",
    "df = df.sort_values(by='Predicted', ascending=False)\n",
    "fig, ax = plt.subplots()\n",
    "plot = sns.regplot(\n",
    "x=labels,\n",
    "y=predictions,\n",
    "scatter=True)"
   ]
  },
  {
   "cell_type": "code",
   "execution_count": 917,
   "metadata": {},
   "outputs": [
    {
     "name": "stdout",
     "output_type": "stream",
     "text": [
      "Scores: [3.89238659 4.80962468 3.65917002 3.60633505 3.41811201 4.15825832\n",
      " 3.27881867 4.11181951 3.27440656 3.06944458]\n",
      "Mean: 3.7278375993777155\n",
      "SD: 0.4986131654144222\n"
     ]
    }
   ],
   "source": [
    "forest_scores = cross_val_score(forest_reg, df_prepared, labels, scoring=\"neg_mean_squared_error\", cv=10)\n",
    "forest_rmse_scores = np.sqrt(-forest_scores)\n",
    "display_scores(forest_rmse_scores)"
   ]
  },
  {
   "cell_type": "code",
   "execution_count": 918,
   "metadata": {},
   "outputs": [
    {
     "data": {
      "text/plain": [
       "0.29984870409934905"
      ]
     },
     "execution_count": 918,
     "metadata": {},
     "output_type": "execute_result"
    }
   ],
   "source": [
    "r2_score(labels, predictions)"
   ]
  },
  {
   "cell_type": "code",
   "execution_count": 919,
   "metadata": {},
   "outputs": [
    {
     "data": {
      "text/plain": [
       "3.6569765073629346"
      ]
     },
     "execution_count": 919,
     "metadata": {},
     "output_type": "execute_result"
    }
   ],
   "source": [
    "predictions = forest_reg.predict(df_test_prepared)\n",
    "forest_mse = mse(test_labels, predictions)\n",
    "forest_rmse = np.sqrt(forest_mse)\n",
    "forest_rmse"
   ]
  },
  {
   "cell_type": "code",
   "execution_count": 920,
   "metadata": {},
   "outputs": [
    {
     "data": {
      "image/png": "[encoded data removed]",
      "text/plain": [
       "<Figure size 432x288 with 1 Axes>"
      ]
     },
     "metadata": {
      "needs_background": "light"
     },
     "output_type": "display_data"
    }
   ],
   "source": [
    "df = pd.DataFrame({'Actual': test_labels, 'Predicted': predictions})\n",
    "df = df.sort_values(by='Predicted', ascending=False)\n",
    "fig, ax = plt.subplots()\n",
    "plot = sns.regplot(\n",
    "x=test_labels,\n",
    "y=predictions,\n",
    "scatter=True)"
   ]
  },
  {
   "cell_type": "code",
   "execution_count": 921,
   "metadata": {},
   "outputs": [
    {
     "name": "stdout",
     "output_type": "stream",
     "text": [
      "Scores: [5.24884332 3.13740586 3.74161187 3.21261724 3.58707934 4.5750677\n",
      " 2.62123797 3.17520548 2.73591552 4.98107067]\n",
      "Mean: 3.701605499009802\n",
      "SD: 0.8799379428745046\n"
     ]
    }
   ],
   "source": [
    "forest_scores = cross_val_score(forest_reg, df_test_prepared, test_labels, scoring=\"neg_mean_squared_error\", cv=10)\n",
    "forest_rmse_scores = np.sqrt(-forest_scores)\n",
    "display_scores(forest_rmse_scores)"
   ]
  },
  {
   "cell_type": "code",
   "execution_count": 922,
   "metadata": {},
   "outputs": [
    {
     "data": {
      "text/plain": [
       "0.22591508442235242"
      ]
     },
     "execution_count": 922,
     "metadata": {},
     "output_type": "execute_result"
    }
   ],
   "source": [
    "r2_score(test_labels, predictions)"
   ]
  },
  {
   "cell_type": "code",
   "execution_count": 923,
   "metadata": {},
   "outputs": [],
   "source": [
    "feature_importances = grid_search.best_estimator_.feature_importances_"
   ]
  },
  {
   "cell_type": "code",
   "execution_count": 924,
   "metadata": {},
   "outputs": [],
   "source": [
    "# from sklearn.base import BaseEstimator, TransformerMixin\n",
    "\n",
    "# def indices_of_top_k(arr, k):\n",
    "#     return np.sort(np.argpartition(np.array(arr), -k)[-k:])\n",
    "\n",
    "# class TopFeatureSelector(BaseEstimator, TransformerMixin):\n",
    "#     def __init__(self, feature_importances, k):\n",
    "#         self.feature_importances = feature_importances\n",
    "#         self.k = k\n",
    "#     def fit(self, X, y=None):\n",
    "#         self.feature_indices_ = indices_of_top_k(self.feature_importances, self.k)\n",
    "#         return self\n",
    "#     def transform(self, X):\n",
    "#         return X[:, self.feature_indices_]"
   ]
  },
  {
   "cell_type": "code",
   "execution_count": 957,
   "metadata": {},
   "outputs": [],
   "source": [
    "# k = 10"
   ]
  },
  {
   "cell_type": "code",
   "execution_count": 958,
   "metadata": {},
   "outputs": [
    {
     "data": {
      "text/plain": [
       "array([ 0,  1,  6, 16, 18, 22, 43, 44, 56, 66])"
      ]
     },
     "execution_count": 958,
     "metadata": {},
     "output_type": "execute_result"
    }
   ],
   "source": [
    "# top_k_feature_indices = indices_of_top_k(feature_importances, k)\n",
    "# top_k_feature_indices"
   ]
  },
  {
   "cell_type": "code",
   "execution_count": 959,
   "metadata": {},
   "outputs": [
    {
     "data": {
      "text/plain": [
       "array(['DR', 'DP', 'AVG PPG', 'Decimal BOA (30%)', 'RecYds/TmPatt Best',\n",
       "       'RecYds/TmPatt Above Team AVG Best',\n",
       "       'Last S/EX (Yds Share Over Expectation)',\n",
       "       'TeamMate Score (TeamMate Over Expected)', 'PPR PPG 23',\n",
       "       'REC Yards 21'], dtype=object)"
      ]
     },
     "execution_count": 959,
     "metadata": {},
     "output_type": "execute_result"
    }
   ],
   "source": [
    "# np.array(attributes)[top_k_feature_indices]"
   ]
  },
  {
   "cell_type": "code",
   "execution_count": 963,
   "metadata": {},
   "outputs": [
    {
     "data": {
      "text/plain": [
       "[(0.10378812845536603, 'DR'),\n",
       " (0.06290653293932641, 'DP'),\n",
       " (0.03636237292258208, 'RecYds/TmPatt Best'),\n",
       " (0.031004202715639178, 'Decimal BOA (30%)'),\n",
       " (0.030060602928404113, 'AVG PPG'),\n",
       " (0.027196062901852454, 'TeamMate Score (TeamMate Over Expected)'),\n",
       " (0.026428058669775004, 'Last S/EX (Yds Share Over Expectation)'),\n",
       " (0.02593634827894499, 'PPR PPG 23'),\n",
       " (0.02545597480209821, 'RecYds/TmPatt Above Team AVG Best'),\n",
       " (0.0229411221715067, 'REC Yards 21'),\n",
       " (0.022808265324218584, 'RecYds/TmPatt First'),\n",
       " (0.02177256488279938, 'YOa (Yards Over Age Average) First'),\n",
       " (0.021514778556274646, 'RecYds/TmPatt Above Team AVG Last'),\n",
       " (0.020689474957072088, 'YARDS'),\n",
       " (0.020326965477364612, 'REC TDs 21'),\n",
       " (0.019732851679397746, 'MS RECs 18'),\n",
       " (0.018670349763149914, 'RECs 22'),\n",
       " (0.017739120090727936, 'REC Yards 23'),\n",
       " (0.017466486650991205, 'RecYds/TmPatt Above Team AVG First'),\n",
       " (0.01630858114509837, 'Games Played 22'),\n",
       " (0.01608587229297816, 'DOa (Dom Over Average) AVG'),\n",
       " (0.014339306951459534, '>30%'),\n",
       " (0.01393441307515259, 'G'),\n",
       " (0.01362683056544497, 'FINAL MS YARDS RK'),\n",
       " (0.013406772431217734, 'AVG S/EX (Yds Share Over Expectation)'),\n",
       " (0.01276990382874089, 'YOa (Yards Over Age Average) Best'),\n",
       " (0.012144463149815517, 'RecYds/TmPatt AVG'),\n",
       " (0.012058870637826435, 'REC TDs 19'),\n",
       " (0.011678557639203382, 'PPR PPG 21'),\n",
       " (0.011641357102239205, 'RECs 18'),\n",
       " (0.0110701471080811, 'MS RECs 21'),\n",
       " (0.010817659945105092, '>20%'),\n",
       " (0.010585153145370767, 'REC Yards 22'),\n",
       " (0.01036441019158849, 'RECs 23'),\n",
       " (0.010278892843930057, 'Draft Year'),\n",
       " (0.01027550907890908, 'Games Played 18'),\n",
       " (0.010140811894733348, 'MS RECs 20'),\n",
       " (0.009427729206793663, 'YOa (Yards Over Age Average) Last'),\n",
       " (0.009176681508213057, 'REC TDs 20'),\n",
       " (0.009159569013898462, 'YPR'),\n",
       " (0.009158566418087807, 'REC/g'),\n",
       " (0.009098361297956603, 'REC TDs 22'),\n",
       " (0.008949617950809374, 'RecYds/TmPatt Last'),\n",
       " (0.0087585089231805, 'REC TDs 23'),\n",
       " (0.00856741384456814, 'Games Played 19'),\n",
       " (0.008562826964707063, 'Dominator Last'),\n",
       " (0.008246884819472392, 'MS Yards AVG'),\n",
       " (0.008080077243317652, 'DOa (Dom Over Average) Best'),\n",
       " (0.008000486892367925, 'DOa (Dom Over Average) Last'),\n",
       " (0.007931471236811512, 'Games Played 21'),\n",
       " (0.00783475507548522, 'REC TDs 18'),\n",
       " (0.007021898968245118, 'Dominator Best'),\n",
       " (0.00606545607996702, 'Games Played 23'),\n",
       " (0.005317257370080368, 'PPR PPG 22'),\n",
       " (0.004773697047324156, 'PPR PPG 18'),\n",
       " (0.004680602236735727, 'YOa (Yards Over Age Average) AVG'),\n",
       " (0.004658476996768338, 'REC Yards 18'),\n",
       " (0.004610443412903509, 'rec'),\n",
       " (0.004176299962050647, 'Dominator First'),\n",
       " (0.0037849043956954187, 'Age IN DRAFT YEAR'),\n",
       " (0.0036494083518044786, 'Years Played'),\n",
       " (0.0035930690393408435, 'RecYds/TmPatt Above Team AVG AVG'),\n",
       " (0.0032985058551100593, 'MS Yards First'),\n",
       " (0.003184222839843765, 'PPG Above conference expectation (Last Year)'),\n",
       " (0.0030119543608446496, 'College Dominator Rating'),\n",
       " (0.002922924921668674, 'REC Yards 19'),\n",
       " (0.0027480832147653025, 'MS Yards Best'),\n",
       " (0.002247993326598569, 'RECs 21'),\n",
       " (0.0021984921163499135, 'PPR PPG 20'),\n",
       " (0.002090529173647039, 'PPR PPG 19'),\n",
       " (0.0020192063841756296, 'Yards Dominator'),\n",
       " (0.0017706468069098398, 'MS RECs 19'),\n",
       " (0.0016726708801000749, 'REC Yards 20'),\n",
       " (0.0014453626122958585, 'Dominator AVG'),\n",
       " (0.001345040521084821, 'MS Yards Last'),\n",
       " (0.0011453334585019366, 'RECs 19'),\n",
       " (0.000850587447085094, 'Games Played 20'),\n",
       " (0.0004362046300476187, 'RECs 20'),\n",
       " (0.0, 'DOa (Dom Over Average) First')]"
      ]
     },
     "execution_count": 963,
     "metadata": {},
     "output_type": "execute_result"
    }
   ],
   "source": [
    "sorted(zip(feature_importances, attributes), reverse=True)"
   ]
  },
  {
   "cell_type": "markdown",
   "metadata": {},
   "source": [
    "# feature importances"
   ]
  },
  {
   "cell_type": "code",
   "execution_count": 849,
   "metadata": {},
   "outputs": [
    {
     "data": {
      "text/plain": [
       "RandomForestRegressor(max_depth=3, max_features=2, n_estimators=30,\n",
       "                      random_state=42)"
      ]
     },
     "execution_count": 849,
     "metadata": {},
     "output_type": "execute_result"
    }
   ],
   "source": [
    "forest_reg = RandomForestRegressor(max_depth=3, max_features=2, n_estimators=30, random_state=42)\n",
    "forest_reg.fit(df_prepared, labels)"
   ]
  },
  {
   "cell_type": "code",
   "execution_count": 850,
   "metadata": {},
   "outputs": [
    {
     "data": {
      "text/plain": [
       "3.327761636146162"
      ]
     },
     "execution_count": 850,
     "metadata": {},
     "output_type": "execute_result"
    }
   ],
   "source": [
    "predictions = forest_reg.predict(df_prepared)\n",
    "forest_mse = mse(labels, predictions)\n",
    "forest_rmse = np.sqrt(forest_mse)\n",
    "forest_rmse"
   ]
  },
  {
   "cell_type": "code",
   "execution_count": 851,
   "metadata": {},
   "outputs": [
    {
     "data": {
      "image/png": "[encoded data removed]",
      "text/plain": [
       "<Figure size 432x288 with 1 Axes>"
      ]
     },
     "metadata": {
      "needs_background": "light"
     },
     "output_type": "display_data"
    }
   ],
   "source": [
    "df = pd.DataFrame({'Actual': labels, 'Predicted': predictions})\n",
    "df = df.sort_values(by='Predicted', ascending=False)\n",
    "fig, ax = plt.subplots()\n",
    "plot = sns.regplot(\n",
    "x=labels,\n",
    "y=predictions,\n",
    "scatter=True)"
   ]
  },
  {
   "cell_type": "code",
   "execution_count": 852,
   "metadata": {},
   "outputs": [
    {
     "name": "stdout",
     "output_type": "stream",
     "text": [
      "Scores: [3.78993104 4.46410901 3.29179401 3.7816477  3.35301319 3.87135132\n",
      " 3.19901071 3.61671131 3.28658277 3.04438436]\n",
      "Mean: 3.5698535421411144\n",
      "SD: 0.4005373543154016\n"
     ]
    }
   ],
   "source": [
    "forest_scores = cross_val_score(forest_reg, df_prepared, labels, scoring=\"neg_mean_squared_error\", cv=10)\n",
    "forest_rmse_scores = np.sqrt(-forest_scores)\n",
    "display_scores(forest_rmse_scores)"
   ]
  },
  {
   "cell_type": "code",
   "execution_count": 853,
   "metadata": {},
   "outputs": [
    {
     "data": {
      "text/plain": [
       "0.36633784843459005"
      ]
     },
     "execution_count": 853,
     "metadata": {},
     "output_type": "execute_result"
    }
   ],
   "source": [
    "r2_score(labels, predictions)"
   ]
  },
  {
   "cell_type": "code",
   "execution_count": 854,
   "metadata": {},
   "outputs": [
    {
     "data": {
      "text/plain": [
       "3.3998630387298148"
      ]
     },
     "execution_count": 854,
     "metadata": {},
     "output_type": "execute_result"
    }
   ],
   "source": [
    "predictions = forest_reg.predict(df_test_prepared)\n",
    "forest_mse = mse(test_labels, predictions)\n",
    "forest_rmse = np.sqrt(forest_mse)\n",
    "forest_rmse"
   ]
  },
  {
   "cell_type": "code",
   "execution_count": 855,
   "metadata": {},
   "outputs": [
    {
     "data": {
      "image/png": "[encoded data removed]",
      "text/plain": [
       "<Figure size 432x288 with 1 Axes>"
      ]
     },
     "metadata": {
      "needs_background": "light"
     },
     "output_type": "display_data"
    }
   ],
   "source": [
    "df = pd.DataFrame({'Actual': test_labels, 'Predicted': predictions})\n",
    "df = df.sort_values(by='Predicted', ascending=False)\n",
    "fig, ax = plt.subplots()\n",
    "plot = sns.regplot(\n",
    "x=test_labels,\n",
    "y=predictions,\n",
    "scatter=True)"
   ]
  },
  {
   "cell_type": "code",
   "execution_count": 856,
   "metadata": {},
   "outputs": [
    {
     "name": "stdout",
     "output_type": "stream",
     "text": [
      "Scores: [3.77806814 2.81918946 3.97483139 2.49869475 2.74907668 4.01015832\n",
      " 2.44309943 3.46802596 2.6866686  5.11457483]\n",
      "Mean: 3.3542387564834457\n",
      "SD: 0.8226181912911023\n"
     ]
    }
   ],
   "source": [
    "forest_scores = cross_val_score(forest_reg, df_test_prepared, test_labels, scoring=\"neg_mean_squared_error\", cv=10)\n",
    "forest_rmse_scores = np.sqrt(-forest_scores)\n",
    "display_scores(forest_rmse_scores)"
   ]
  },
  {
   "cell_type": "code",
   "execution_count": 857,
   "metadata": {},
   "outputs": [
    {
     "data": {
      "text/plain": [
       "0.3309368545218764"
      ]
     },
     "execution_count": 857,
     "metadata": {},
     "output_type": "execute_result"
    }
   ],
   "source": [
    "r2_score(test_labels, predictions)"
   ]
  },
  {
   "cell_type": "code",
   "execution_count": null,
   "metadata": {},
   "outputs": [],
   "source": []
  }
 ],
 "metadata": {
  "kernelspec": {
   "display_name": "Python 3",
   "language": "python",
   "name": "python3"
  },
  "language_info": {
   "codemirror_mode": {
    "name": "ipython",
    "version": 3
   },
   "file_extension": ".py",
   "mimetype": "text/x-python",
   "name": "python",
   "nbconvert_exporter": "python",
   "pygments_lexer": "ipython3",
   "version": "3.7.7"
  }
 },
 "nbformat": 4,
 "nbformat_minor": 4
}
